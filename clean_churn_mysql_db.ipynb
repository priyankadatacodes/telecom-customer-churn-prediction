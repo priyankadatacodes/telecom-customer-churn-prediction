{
 "cells": [
  {
   "cell_type": "code",
   "execution_count": 3,
   "id": "162cba5b",
   "metadata": {},
   "outputs": [],
   "source": [
    "import mysql.connector\n",
    "from sqlalchemy import create_engine\n",
    "import pandas as pd\n"
   ]
  },
  {
   "cell_type": "code",
   "execution_count": 4,
   "id": "b9c75677",
   "metadata": {},
   "outputs": [],
   "source": [
    "\n",
    "# MySQL connect\n",
    "mydb = mysql.connector.connect(\n",
    "    host=\"localhost\",\n",
    "    user=\"root\",\n",
    "    password=\"pricass00\"\n",
    ")\n",
    "\n",
    "cursor = mydb.cursor()\n"
   ]
  },
  {
   "cell_type": "code",
   "execution_count": 5,
   "id": "5f7eb498",
   "metadata": {},
   "outputs": [
    {
     "name": "stdout",
     "output_type": "stream",
     "text": [
      "✅ Database created successfully!\n"
     ]
    }
   ],
   "source": [
    "\n",
    "# Create new database if it doesn't exist\n",
    "cursor.execute(\"CREATE DATABASE IF NOT EXISTS customer_db\")\n",
    "print(\"✅ Database created successfully!\")\n"
   ]
  },
  {
   "cell_type": "code",
   "execution_count": 6,
   "id": "a3d99e11",
   "metadata": {},
   "outputs": [],
   "source": [
    "\n",
    "# SQLAlchemy engine for the new database\n",
    "username = \"root\"\n",
    "password = \"pricass00\"\n",
    "host = \"localhost\"\n",
    "database = \"customer_db\"\n",
    "engine = create_engine(f\"mysql+mysqlconnector://{username}:{password}@{host}/{database}\")\n"
   ]
  },
  {
   "cell_type": "code",
   "execution_count": 7,
   "id": "115f9e67",
   "metadata": {},
   "outputs": [
    {
     "name": "stdout",
     "output_type": "stream",
     "text": [
      "   Unnamed: 0  customerID  gender  SeniorCitizen Partner Dependents  tenure  \\\n",
      "0           0  7590-VHVEG  Female              0     Yes         No       1   \n",
      "1           1  5575-GNVDE    Male              0      No         No      34   \n",
      "2           2  3668-QPYBK    Male              0      No         No       2   \n",
      "3           3  7795-CFOCW    Male              0      No         No      45   \n",
      "4           4  9237-HQITU  Female              0      No         No       2   \n",
      "\n",
      "  PhoneService     MultipleLines InternetService  ... TechSupport StreamingTV  \\\n",
      "0           No  No phone service             DSL  ...          No          No   \n",
      "1          Yes                No             DSL  ...          No          No   \n",
      "2          Yes                No             DSL  ...          No          No   \n",
      "3           No  No phone service             DSL  ...         Yes          No   \n",
      "4          Yes                No     Fiber optic  ...          No          No   \n",
      "\n",
      "  StreamingMovies        Contract PaperlessBilling              PaymentMethod  \\\n",
      "0              No  Month-to-month              Yes           Electronic check   \n",
      "1              No        One year               No               Mailed check   \n",
      "2              No  Month-to-month              Yes               Mailed check   \n",
      "3              No        One year               No  Bank transfer (automatic)   \n",
      "4              No  Month-to-month              Yes           Electronic check   \n",
      "\n",
      "  MonthlyCharges TotalCharges Churn  Churn_flag  \n",
      "0          29.85        29.85    No           0  \n",
      "1          56.95      1889.50    No           0  \n",
      "2          53.85       108.15   Yes           1  \n",
      "3          42.30      1840.75    No           0  \n",
      "4          70.70       151.65   Yes           1  \n",
      "\n",
      "[5 rows x 23 columns]\n"
     ]
    }
   ],
   "source": [
    "\n",
    "# Path to your CSV file\n",
    "csv_file_path = r\"C:\\Users\\offic\\Downloads\\onedrive pl\\OneDrive\\Desktop\\PRIDATAX\\TELCO_CHURN_ANALYSIS\\CHURN_PROJECT\\clean_churn.csv\"\n",
    "\n",
    "# Read CSV file into DataFrame\n",
    "df = pd.read_csv(csv_file_path)\n",
    "\n",
    "# Display first few rows\n",
    "print(df.head())\n"
   ]
  },
  {
   "cell_type": "code",
   "execution_count": null,
   "id": "04f1d81c",
   "metadata": {},
   "outputs": [
    {
     "data": {
      "text/plain": [
       "7043"
      ]
     },
     "execution_count": 8,
     "metadata": {},
     "output_type": "execute_result"
    }
   ],
   "source": [
    "table_name = \"churn_data\"  \n",
    "df.to_sql(table_name, con=engine, if_exists=\"replace\", index=False)"
   ]
  },
  {
   "cell_type": "code",
   "execution_count": 9,
   "id": "07fd4c48",
   "metadata": {},
   "outputs": [
    {
     "name": "stdout",
     "output_type": "stream",
     "text": [
      "Tables in DB: [('churn_data',)]\n"
     ]
    }
   ],
   "source": [
    "cursor.execute(\"USE customer_db\")\n",
    "cursor.execute(\"SHOW TABLES\")\n",
    "tables = cursor.fetchall()\n",
    "print(\"Tables in DB:\", tables)\n"
   ]
  },
  {
   "cell_type": "code",
   "execution_count": null,
   "id": "40a78b90",
   "metadata": {},
   "outputs": [
    {
     "name": "stdout",
     "output_type": "stream",
     "text": [
      "✅ Database 'churn_db' has been removed successfully!\n"
     ]
    }
   ],
   "source": [
    "\n",
    "database_name = \"churn_db\"\n",
    "\n",
    "# Drop database\n",
    "cursor.execute(f\"DROP DATABASE IF EXISTS {database_name}\")\n",
    "print(f\"✅ Database '{database_name}' has been removed successfully!\")\n"
   ]
  },
  {
   "cell_type": "code",
   "execution_count": null,
   "id": "8e7eb235",
   "metadata": {},
   "outputs": [],
   "source": []
  }
 ],
 "metadata": {
  "kernelspec": {
   "display_name": "Python 3",
   "language": "python",
   "name": "python3"
  },
  "language_info": {
   "codemirror_mode": {
    "name": "ipython",
    "version": 3
   },
   "file_extension": ".py",
   "mimetype": "text/x-python",
   "name": "python",
   "nbconvert_exporter": "python",
   "pygments_lexer": "ipython3",
   "version": "3.13.5"
  }
 },
 "nbformat": 4,
 "nbformat_minor": 5
}
