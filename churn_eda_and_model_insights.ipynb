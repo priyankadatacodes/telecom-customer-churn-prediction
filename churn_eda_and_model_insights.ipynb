{
 "cells": [
  {
   "cell_type": "markdown",
   "id": "8d203468",
   "metadata": {},
   "source": [
    "# **Project Title: \"Customer Churn Prediction for Telecom\"**\n",
    "\n",
    "## **1. PROBLEM STATEMENT:**\n",
    "Subscription-based businesses (telecom, streaming, SaaS) face a key challenge: customer churn (users canceling their service). Reducing churn is critical because retaining a customer is cheaper than acquiring a new one.\n",
    "\n",
    "\n",
    "## **OBJECTIVE:**\n",
    "Build a predictive model to identify customers at risk of churn and recommend retention strategies."
   ]
  },
  {
   "cell_type": "markdown",
   "id": "abdaa0f1",
   "metadata": {},
   "source": [
    "## **2. IMPORT REQUIRED LIBRARIES**"
   ]
  },
  {
   "cell_type": "code",
   "execution_count": null,
   "id": "130ce5f9",
   "metadata": {},
   "outputs": [],
   "source": [
    "import pandas as pd\n",
    "import numpy as np\n",
    "import matplotlib.pyplot as plt\n",
    "import seaborn as sns\n",
    "import warnings\n",
    "warnings.filterwarnings(\"ignore\")"
   ]
  },
  {
   "cell_type": "markdown",
   "id": "616cf437",
   "metadata": {},
   "source": [
    "## **3. DATASET LOAD AND OVERVIEW**"
   ]
  },
  {
   "cell_type": "code",
   "execution_count": null,
   "id": "ee897b3c",
   "metadata": {},
   "outputs": [],
   "source": [
    "churn=pd.read_csv(\"Telco_Customer_Churn.csv\")\n",
    "churn.head()"
   ]
  },
  {
   "cell_type": "code",
   "execution_count": null,
   "id": "685331e0",
   "metadata": {},
   "outputs": [],
   "source": [
    "df=churn.copy()\n",
    "df.head()"
   ]
  },
  {
   "cell_type": "code",
   "execution_count": null,
   "id": "54b92ce1",
   "metadata": {},
   "outputs": [],
   "source": [
    "df.shape"
   ]
  },
  {
   "cell_type": "code",
   "execution_count": null,
   "id": "97f7aa02",
   "metadata": {},
   "outputs": [],
   "source": [
    "df.shape[0]"
   ]
  },
  {
   "cell_type": "code",
   "execution_count": null,
   "id": "78f70503",
   "metadata": {},
   "outputs": [],
   "source": [
    "df.info()"
   ]
  },
  {
   "cell_type": "code",
   "execution_count": null,
   "id": "8cf8bda4",
   "metadata": {},
   "outputs": [],
   "source": [
    "df.dtypes"
   ]
  },
  {
   "cell_type": "code",
   "execution_count": null,
   "id": "829df309",
   "metadata": {},
   "outputs": [],
   "source": [
    "df.duplicated().sum()"
   ]
  },
  {
   "cell_type": "markdown",
   "id": "2a89bf12",
   "metadata": {},
   "source": [
    "## **BASIC STATISTICS SUMMARY**"
   ]
  },
  {
   "cell_type": "code",
   "execution_count": null,
   "id": "94b1e468",
   "metadata": {},
   "outputs": [],
   "source": [
    "df.describe()"
   ]
  },
  {
   "cell_type": "code",
   "execution_count": null,
   "id": "d7f596c5",
   "metadata": {},
   "outputs": [],
   "source": [
    "df.describe(include=\"object\")"
   ]
  },
  {
   "cell_type": "markdown",
   "id": "fe54172f",
   "metadata": {},
   "source": [
    "## **3. DATA CLEANING**"
   ]
  },
  {
   "cell_type": "markdown",
   "id": "ede102af",
   "metadata": {},
   "source": [
    "\n",
    "- Convert TotalCharges to numeric\n",
    "- Handle missing values\n",
    "- Create target variable (Churn_flag)\n"
   ]
  },
  {
   "cell_type": "code",
   "execution_count": null,
   "id": "3eb3c184",
   "metadata": {},
   "outputs": [],
   "source": [
    "df['TotalCharges']=pd.to_numeric(df['TotalCharges'],errors=\"coerce\")"
   ]
  },
  {
   "cell_type": "code",
   "execution_count": null,
   "id": "185cde22",
   "metadata": {},
   "outputs": [],
   "source": [
    "df['TotalCharges'].fillna(df['TotalCharges'].median(),inplace=True)\n",
    "df.dtypes"
   ]
  },
  {
   "cell_type": "code",
   "execution_count": null,
   "id": "d08f0356",
   "metadata": {},
   "outputs": [],
   "source": [
    "df[\"Churn_flag\"] = df[\"Churn\"].map({\"Yes\":1, \"No\":0})"
   ]
  },
  {
   "cell_type": "code",
   "execution_count": null,
   "id": "d38dea20",
   "metadata": {},
   "outputs": [],
   "source": [
    "df.to_csv(\"clean_churn.csv\")"
   ]
  },
  {
   "cell_type": "code",
   "execution_count": null,
   "id": "13132488",
   "metadata": {},
   "outputs": [],
   "source": [
    "df1=df.copy()"
   ]
  },
  {
   "cell_type": "markdown",
   "id": "25cb5ec3",
   "metadata": {},
   "source": [
    "## **5. Exploratory Data Analysis (EDA)**\n",
    "Using Seaborn plots to analyze categorical and numerical features.\n"
   ]
  },
  {
   "cell_type": "markdown",
   "id": "0213f972",
   "metadata": {},
   "source": [
    "### *Remove unwanted column:*"
   ]
  },
  {
   "cell_type": "code",
   "execution_count": null,
   "id": "ac99ee77",
   "metadata": {},
   "outputs": [],
   "source": [
    "df.columns"
   ]
  },
  {
   "cell_type": "code",
   "execution_count": null,
   "id": "855d4ad6",
   "metadata": {},
   "outputs": [],
   "source": [
    "df=df.drop(columns=['customerID'],axis=1)"
   ]
  },
  {
   "cell_type": "code",
   "execution_count": null,
   "id": "44ca3ded",
   "metadata": {},
   "outputs": [],
   "source": [
    "df.columns"
   ]
  },
  {
   "cell_type": "markdown",
   "id": "0afd4e1e",
   "metadata": {},
   "source": [
    "### *Total churn vs non-churn:*"
   ]
  },
  {
   "cell_type": "code",
   "execution_count": null,
   "id": "b01d93f5",
   "metadata": {},
   "outputs": [],
   "source": [
    "df['Churn'].value_counts()"
   ]
  },
  {
   "cell_type": "markdown",
   "id": "bc6e03b1",
   "metadata": {},
   "source": [
    "### *Total % churn vs non-churn:*"
   ]
  },
  {
   "cell_type": "code",
   "execution_count": null,
   "id": "0134ac0c",
   "metadata": {},
   "outputs": [],
   "source": [
    "df['Churn'].value_counts(normalize=True)*100"
   ]
  },
  {
   "cell_type": "code",
   "execution_count": null,
   "id": "7c55ed7c",
   "metadata": {},
   "outputs": [],
   "source": [
    "plt.style.use(\"fivethirtyeight\")\n",
    "sns.set_style(\"whitegrid\")\n",
    "sns.set_palette(\"muted\")"
   ]
  },
  {
   "cell_type": "code",
   "execution_count": null,
   "id": "f4b61b81",
   "metadata": {},
   "outputs": [],
   "source": [
    "plt.Figure(figsize=(10,5))\n",
    "df['Churn'].value_counts().plot.pie(autopct=\"%1.1f%%\")\n",
    "plt.title(\"Churn %\")\n",
    "plt.ylabel(\"\")\n",
    "plt.show()"
   ]
  },
  {
   "cell_type": "code",
   "execution_count": null,
   "id": "6bd5e4b9",
   "metadata": {},
   "outputs": [],
   "source": [
    "cat_cols=df.select_dtypes(include=\"object\").columns\n",
    "num_cols=df.select_dtypes(include=[\"int64\",\"float64\"]).columns"
   ]
  },
  {
   "cell_type": "markdown",
   "id": "95dcf7b5",
   "metadata": {},
   "source": [
    "## **UNIVARIATE ANALYSIS**"
   ]
  },
  {
   "cell_type": "code",
   "execution_count": null,
   "id": "49ea39b4",
   "metadata": {},
   "outputs": [],
   "source": [
    "for col in cat_cols:\n",
    "    plt.Figure(figsize=(10,5))\n",
    "    sns.countplot(data=df,x=col)\n",
    "    plt.title(f\"Distribution of {col}\")\n",
    "    plt.xlabel(f'{col}')\n",
    "    plt.ylabel(\"Count\")\n",
    "    plt.xticks(rotation=45)\n",
    "    plt.show()"
   ]
  },
  {
   "cell_type": "code",
   "execution_count": null,
   "id": "e0a2d6b0",
   "metadata": {},
   "outputs": [],
   "source": [
    "for col in num_cols:\n",
    "    plt.Figure(figsize=(10,5))\n",
    "    sns.histplot(data=df,x=col,bins=30,kde=True)\n",
    "    plt.title(f\"Distribution of {col}\")\n",
    "    plt.xlabel(f'{col}')\n",
    "    plt.ylabel(\"Count\")\n",
    "    plt.xticks(rotation=45)\n",
    "    plt.show()"
   ]
  },
  {
   "cell_type": "code",
   "execution_count": null,
   "id": "e73bf7ae",
   "metadata": {},
   "outputs": [],
   "source": [
    "for col in num_cols:\n",
    "    plt.Figure(figsize=(10,5))\n",
    "    sns.boxplot(data=df,y=col)\n",
    "    plt.title(f\"Outliers in {col}\")\n",
    "    plt.xlabel(f'{col}')\n",
    "    plt.ylabel(\"Count\")\n",
    "    plt.xticks(rotation=45)\n",
    "    plt.show()"
   ]
  },
  {
   "cell_type": "markdown",
   "id": "0a55fedb",
   "metadata": {},
   "source": [
    "## **BIVARIATE ANALYSIS BASED ON TARGET=\"CHURN\"**"
   ]
  },
  {
   "cell_type": "code",
   "execution_count": null,
   "id": "a6263cc5",
   "metadata": {},
   "outputs": [],
   "source": [
    "for col in cat_cols:\n",
    "    plt.Figure(figsize=(10,5))\n",
    "    sns.countplot(data=df,x=col,hue=\"Churn\")\n",
    "    plt.title(f\"Churn vs {col}\")\n",
    "    plt.xlabel(f'{col}')\n",
    "    plt.ylabel(\"Count\")\n",
    "    plt.xticks(rotation=45)\n",
    "    plt.show()"
   ]
  },
  {
   "cell_type": "code",
   "execution_count": null,
   "id": "f112e9d0",
   "metadata": {},
   "outputs": [],
   "source": [
    "for col in num_cols:\n",
    "    plt.Figure(figsize=(10,5))\n",
    "    sns.histplot(data=df,x=col,hue=\"Churn\",kde=True,bins=30)\n",
    "    plt.title(f\"Churn vs {col}\")\n",
    "    plt.xlabel(f'{col}')\n",
    "    plt.ylabel(\"Count\")\n",
    "    plt.xticks(rotation=45)\n",
    "    plt.show()"
   ]
  },
  {
   "cell_type": "code",
   "execution_count": null,
   "id": "97cd5834",
   "metadata": {},
   "outputs": [],
   "source": [
    "for col in num_cols:\n",
    "    plt.Figure(figsize=(10,5))\n",
    "    sns.boxplot(data=df,y=col,hue=\"Churn\")\n",
    "    plt.title(f\"Churn vs {col}\")\n",
    "    plt.xlabel(f'{col}')\n",
    "    plt.ylabel(\"Count\")\n",
    "    plt.xticks(rotation=45)\n",
    "    plt.show()"
   ]
  },
  {
   "cell_type": "code",
   "execution_count": null,
   "id": "9057a504",
   "metadata": {},
   "outputs": [],
   "source": [
    "for col in num_cols:\n",
    "        Q1=df[col].quantile(0.25)\n",
    "        Q3=df[col].quantile(0.75)\n",
    "        IQR=Q3-Q1\n",
    "        lower=Q1-1.5*IQR\n",
    "        upper=Q3+1.5*IQR\n",
    "        df=df[(df[col]>=lower)&(df[col]<=upper)]"
   ]
  },
  {
   "cell_type": "code",
   "execution_count": null,
   "id": "b47cbc41",
   "metadata": {},
   "outputs": [],
   "source": [
    "for col in num_cols:\n",
    "    plt.Figure(figsize=(10,5))\n",
    "    sns.boxplot(data=df,y=col,hue=\"Churn\",palette=\"viridis\")\n",
    "    plt.title(f\"Churn vs {col}\")\n",
    "    plt.xlabel(f'{col}')\n",
    "    plt.ylabel(\"Count\")\n",
    "    plt.xticks(rotation=45)\n",
    "    plt.show()"
   ]
  },
  {
   "cell_type": "code",
   "execution_count": null,
   "id": "b7dc2f56",
   "metadata": {},
   "outputs": [],
   "source": [
    "df['TenureGroup']=pd.cut(df['tenure'],bins=[-1,12,24,48,72],labels=[\"0-12\",\"13-24\",\"25-48\",\"49-72\"])\n",
    "sns.countplot(x=\"TenureGroup\",hue=\"Churn\",data=df)\n",
    "plt.title(\"Churn count by tenure group\")\n",
    "plt.show()"
   ]
  },
  {
   "cell_type": "markdown",
   "id": "9de3afd7",
   "metadata": {},
   "source": [
    "## **MULTIVARIATE ANALYSIS**"
   ]
  },
  {
   "cell_type": "code",
   "execution_count": null,
   "id": "7c11dcaa",
   "metadata": {},
   "outputs": [],
   "source": [
    "    plt.Figure(figsize=(20,10))\n",
    "    sns.heatmap(df[num_cols].corr(),annot=True)\n",
    "    plt.title(\"Correlation Heatmap of Features\")\n",
    "    plt.show()"
   ]
  },
  {
   "cell_type": "code",
   "execution_count": null,
   "id": "e5555202",
   "metadata": {},
   "outputs": [],
   "source": [
    "for col in num_cols:\n",
    "    if col==\"SeniorCitizen\":\n",
    "        continue\n",
    "    plt.Figure(figsize=(10,5))\n",
    "    sns.scatterplot(data=df,x=col,hue=\"Churn\",y=\"MonthlyCharges\",alpha=0.6)\n",
    "    plt.title(f\"Churn in Monthlycharges vs {col}\")\n",
    "    plt.xlabel(f'{col}')\n",
    "    plt.ylabel(\"Count\")\n",
    "    plt.xticks(rotation=45)\n",
    "    plt.show()"
   ]
  },
  {
   "cell_type": "code",
   "execution_count": null,
   "id": "a804b7b8",
   "metadata": {},
   "outputs": [],
   "source": [
    "num_cols2=[col for col in num_cols if col !=\"SeniorCitizen\"]\n",
    "sns.pairplot(df[num_cols2+[\"Churn\"]],hue=\"Churn\",diag_kind=\"kde\")\n",
    "plt.show()"
   ]
  },
  {
   "cell_type": "markdown",
   "id": "130cec0c",
   "metadata": {},
   "source": [
    "## **6. Feature Engineering**\n",
    "Drop unnecessary columns and separate categorical and numerical features.\n"
   ]
  },
  {
   "cell_type": "code",
   "execution_count": null,
   "id": "7aeecaf6",
   "metadata": {},
   "outputs": [],
   "source": [
    "for col in cat_cols:\n",
    "    print(f\"{col}:{df[col].to_list()[:10]}\")"
   ]
  },
  {
   "cell_type": "code",
   "execution_count": null,
   "id": "3fb5ea1b",
   "metadata": {},
   "outputs": [],
   "source": [
    "for col in num_cols:\n",
    "    print(f\"{col}:{df[col].to_list()[:10]}\")"
   ]
  },
  {
   "cell_type": "code",
   "execution_count": null,
   "id": "578a95f2",
   "metadata": {},
   "outputs": [],
   "source": [
    "cat_cols1=df1.select_dtypes(include=\"object\").columns\n",
    "num_cols1=df1.select_dtypes(include=[\"int64\",\"float64\"]).columns"
   ]
  },
  {
   "cell_type": "code",
   "execution_count": null,
   "id": "d13d9fdb",
   "metadata": {},
   "outputs": [],
   "source": [
    "X = df1.drop([\"Churn\",\"Churn_flag\"], axis=1)\n",
    "y = df1[\"Churn_flag\"]\n",
    "\n",
    "cat_cols1 = X.select_dtypes(include=\"object\").columns.tolist()\n",
    "num_cols1 = X.select_dtypes(exclude=\"object\").columns.tolist()\n",
    "\n",
    "\n",
    "print(\"Categorical Columns:\", cat_cols1)\n",
    "print(\"Numerical Columns:\", num_cols1)"
   ]
  },
  {
   "cell_type": "markdown",
   "id": "9a9264f0",
   "metadata": {},
   "source": [
    "## **7. Preprocessing & Train-Test Split**\n",
    "- OneHotEncoding for categorical features\n",
    "- Scaling for numerical features\n"
   ]
  },
  {
   "cell_type": "code",
   "execution_count": null,
   "id": "75add728",
   "metadata": {},
   "outputs": [],
   "source": [
    "from sklearn.model_selection import train_test_split\n",
    "from sklearn.preprocessing import OneHotEncoder, StandardScaler\n",
    "from sklearn.compose import ColumnTransformer\n",
    "from sklearn.pipeline import Pipeline\n",
    "from sklearn.impute import SimpleImputer"
   ]
  },
  {
   "cell_type": "code",
   "execution_count": null,
   "id": "1df1357b",
   "metadata": {},
   "outputs": [],
   "source": [
    "X_train, X_test, y_train, y_test = train_test_split(\n",
    "    X, y, test_size=0.3, stratify=y, random_state=42\n",
    ")\n",
    "\n",
    "print(\"Training Data:\", X_train.shape)\n",
    "print(\"Test Data:\", X_test.shape)\n",
    "\n",
    "print(\"Training Data:\", y_train.shape)\n",
    "print(\"Test Data:\", y_test.shape)"
   ]
  },
  {
   "cell_type": "code",
   "execution_count": null,
   "id": "6753b7c2",
   "metadata": {},
   "outputs": [],
   "source": [
    "preprocessor=ColumnTransformer(transformers=[(\"cat\",OneHotEncoder(handle_unknown=\"ignore\"),cat_cols1),(\"num\",StandardScaler(),num_cols1)])"
   ]
  },
  {
   "cell_type": "code",
   "execution_count": null,
   "id": "64b7fbc1",
   "metadata": {},
   "outputs": [],
   "source": [
    "X_train_processed = preprocessor.fit_transform(X_train)\n",
    "X_test_processed = preprocessor.transform(X_test)"
   ]
  },
  {
   "cell_type": "code",
   "execution_count": null,
   "id": "441da323",
   "metadata": {},
   "outputs": [],
   "source": [
    "y_train.value_counts(normalize=True)"
   ]
  },
  {
   "cell_type": "code",
   "execution_count": null,
   "id": "fa62f4f8",
   "metadata": {},
   "outputs": [],
   "source": [
    "y_test.value_counts(normalize=True)"
   ]
  },
  {
   "cell_type": "code",
   "execution_count": null,
   "id": "c4b26aa1",
   "metadata": {},
   "outputs": [],
   "source": [
    "y_train.value_counts().unique()"
   ]
  },
  {
   "cell_type": "markdown",
   "id": "e5ed828e",
   "metadata": {},
   "source": [
    "## **8. Model Training and Evaluation**\n",
    "Logistic Regression and Random Forest.\n"
   ]
  },
  {
   "cell_type": "code",
   "execution_count": null,
   "id": "2e07c0fe",
   "metadata": {},
   "outputs": [],
   "source": [
    "from sklearn.linear_model import LogisticRegression\n",
    "from sklearn.ensemble import RandomForestClassifier\n",
    "from sklearn.metrics import classification_report, confusion_matrix, roc_auc_score\n"
   ]
  },
  {
   "cell_type": "code",
   "execution_count": null,
   "id": "d1f81b0d",
   "metadata": {},
   "outputs": [],
   "source": [
    "\n",
    "log_model = LogisticRegression(max_iter=1000)\n",
    "log_model.fit(X_train_processed, y_train)\n",
    "log_pred=log_model.predict(X_test_processed)\n",
    "log_prob = log_model.predict_proba(X_test_processed)[:,1]\n"
   ]
  },
  {
   "cell_type": "code",
   "execution_count": null,
   "id": "1dcd9745",
   "metadata": {},
   "outputs": [],
   "source": [
    "\n",
    "rf_model = RandomForestClassifier(random_state=42)\n",
    "rf_model.fit(X_train_processed, y_train)\n",
    "rf_pred=rf_model.predict(X_test_processed)\n",
    "rf_prob = rf_model.predict_proba(X_test_processed)[:,1]"
   ]
  },
  {
   "cell_type": "code",
   "execution_count": null,
   "id": "8e2901f0",
   "metadata": {},
   "outputs": [],
   "source": [
    "\n",
    "\n",
    "print(\"LogisticRegression:\\n\",(classification_report(y_test,log_pred)))\n",
    "print(\"RandomForestClassifier:\\n\",(classification_report(y_test,rf_pred)))\n"
   ]
  },
  {
   "cell_type": "code",
   "execution_count": null,
   "id": "81113557",
   "metadata": {},
   "outputs": [],
   "source": [
    "print(\"ROC AUC Score:\\n\", roc_auc_score(y_test, log_prob))\n",
    "print(\"ROC AUC Score:\\n\", roc_auc_score(y_test, rf_prob))\n"
   ]
  },
  {
   "cell_type": "code",
   "execution_count": null,
   "id": "c9656704",
   "metadata": {},
   "outputs": [],
   "source": [
    "# Confusion Matrix\n",
    "sns.heatmap(confusion_matrix(y_test, log_pred), annot=True, fmt=\"d\", cmap=\"Blues\")\n",
    "plt.title(\"Logistic Regression Confusion Matrix\")\n",
    "plt.show()"
   ]
  },
  {
   "cell_type": "code",
   "execution_count": null,
   "id": "0261e50d",
   "metadata": {},
   "outputs": [],
   "source": [
    "sns.heatmap(confusion_matrix(y_test, rf_pred), annot=True, fmt=\"d\", cmap=\"Greens\")\n",
    "plt.title(\"Random Forest Confusion Matrix\")\n",
    "plt.show()"
   ]
  },
  {
   "cell_type": "markdown",
   "id": "481c54cb",
   "metadata": {},
   "source": [
    "# **10. Business Insights from Data**"
   ]
  },
  {
   "cell_type": "markdown",
   "id": "1db5ee29",
   "metadata": {},
   "source": [
    "### **HIGH CHURN RISK**:\n",
    "- ### PaymentMethod-Electronic check\n",
    "- ### Contract-Month to month\n",
    "- ### InternetService-Fiber  optic \n",
    "- ### SeniorCitizen-01\n",
    "- ### tenure-<12 MONTHS\n",
    "\n",
    "\n"
   ]
  },
  {
   "cell_type": "code",
   "execution_count": null,
   "id": "4e1205ef",
   "metadata": {},
   "outputs": [],
   "source": [
    "df.columns"
   ]
  },
  {
   "cell_type": "code",
   "execution_count": null,
   "id": "cf0118ec",
   "metadata": {},
   "outputs": [],
   "source": [
    "# Check churn rates by important features\n",
    "for col in [\"Contract\", \"InternetService\", \"PaymentMethod\"]:\n",
    "    churn_rate = df.groupby(col)[\"Churn_flag\"].mean() * 100\n",
    "    print(f\"\\nChurn Rate by {col}:\\n\", churn_rate)\n"
   ]
  },
  {
   "cell_type": "markdown",
   "id": "c4f4b36f",
   "metadata": {},
   "source": [
    "- Month-to-Month contracts have the highest churn (43%).\n",
    "\n",
    "- Customers paying via Electronic Check churn more often(46%).\n",
    "\n",
    "- Fiber Optic internet users churn more than DSL users(42%)."
   ]
  },
  {
   "cell_type": "markdown",
   "id": "2ad053f5",
   "metadata": {},
   "source": [
    "# **11. Retention Strategy**"
   ]
  },
  {
   "cell_type": "code",
   "execution_count": null,
   "id": "783e20f7",
   "metadata": {},
   "outputs": [],
   "source": [
    "# Get churn probabilities from Logistic Regression\n",
    "log_probs = log_model.predict_proba(X_test_processed)[:,1]\n",
    "\n",
    "# Create action list\n",
    "action_list = pd.DataFrame({\n",
    "    \"CustomerID\": df1.loc[X_test.index, \"customerID\"],\n",
    "    \"Churn_Probability\": log_probs\n",
    "})\n",
    "\n",
    "# Add recommended actions\n",
    "action_list[\"Action\"] = [\n",
    "    \"Retention Call\" if p >= 0.7 else \n",
    "    \"Email Coupon\" if p >= 0.4 else \n",
    "    \"Monitor Only\"\n",
    "    for p in log_probs\n",
    "]\n",
    "\n",
    "action_list.head(10)\n"
   ]
  },
  {
   "cell_type": "code",
   "execution_count": null,
   "id": "77304414",
   "metadata": {},
   "outputs": [],
   "source": [
    "# Get churn probabilities from Random Forest \n",
    "rf_probs = rf_model.predict_proba(X_test_processed)[:,1]\n",
    "\n",
    "# Create a DataFrame with customer IDs, churn probability, and recommended action\n",
    "action_list = pd.DataFrame({\n",
    "    \"CustomerID\": df1.loc[X_test.index, \"customerID\"],\n",
    "    \"Churn_Probability\": rf_probs\n",
    "})\n",
    "\n",
    "# Add Action column based on probability thresholds\n",
    "action_list[\"Action\"] = [\n",
    "    \"Retention Call\" if p >= 0.7 else \n",
    "    \"Email Coupon\" if p >= 0.4 else \n",
    "    \"Monitor Only\" \n",
    "    for p in rf_probs\n",
    "]\n",
    "\n",
    "action_list.head(10)\n"
   ]
  },
  {
   "cell_type": "markdown",
   "id": "fcd38845",
   "metadata": {},
   "source": [
    "# **12. ROI ESTIMATION**"
   ]
  },
  {
   "cell_type": "code",
   "execution_count": null,
   "id": "48c3d038",
   "metadata": {},
   "outputs": [],
   "source": [
    "# Average monthly charges of high-risk customers\n",
    "avg_monthly = df1.loc[y_test.index, \"MonthlyCharges\"].mean()\n",
    "\n",
    "# High-risk customers = churn probability >= 0.7\n",
    "high_risk_count = (log_probs >= 0.7).sum()\n",
    "\n",
    "# Assume retention strategy saves 5% of high-risk customers\n",
    "retention_lift = 0.05  \n",
    "saved_revenue_monthly = avg_monthly * high_risk_count * retention_lift\n",
    "saved_revenue_yearly = saved_revenue_monthly * 12\n",
    "\n",
    "print(\"Estimated Monthly Revenue Saved:\", round(saved_revenue_monthly, 2))\n",
    "print(\"Estimated Yearly Revenue Saved:\", round(saved_revenue_yearly, 2))\n"
   ]
  },
  {
   "cell_type": "code",
   "execution_count": null,
   "id": "c1e6e724",
   "metadata": {},
   "outputs": [],
   "source": [
    "\n",
    "\n",
    "# Step 1: Average monthly charges of high-risk customers\n",
    "avg_monthly = df1.loc[y_test.index, \"MonthlyCharges\"].mean()\n",
    "\n",
    "# Step 2: Count how many high-risk customers (p >= 0.7)\n",
    "high_risk_count = (log_probs >= 0.7).sum()\n",
    "\n",
    "# Step 3: Retention improvement scenarios (1% to 10%)\n",
    "retention_rates = [0.01,0.02,0.03,0.04,0.05,0.06,0.07,0.08,0.09,0.10]\n",
    "\n",
    "# Step 4: Calculate yearly savings for each rate\n",
    "yearly_savings = []\n",
    "for r in retention_rates:\n",
    "    saved = avg_monthly * high_risk_count * r * 12\n",
    "    yearly_savings.append(saved)\n",
    "\n",
    "# Step 5: Put results into a DataFrame (easy for seaborn)\n",
    "roi_df = pd.DataFrame({\n",
    "    \"Retention (%)\": [r*100 for r in retention_rates],\n",
    "    \"Revenue Saved ($)\": yearly_savings\n",
    "})\n",
    "\n",
    "# Step 6: Plot with seaborn\n",
    "plt.figure(figsize=(8,5))\n",
    "sns.barplot(x=\"Retention (%)\", y=\"Revenue Saved ($)\", data=roi_df, color=\"skyblue\", edgecolor=\"black\")\n",
    "\n",
    "# Step 7: Add labels on top of bars\n",
    "for i, row in roi_df.iterrows():\n",
    "    plt.text(row[\"Retention (%)\"], row[\"Revenue Saved ($)\"] + 500, \n",
    "             \"$\" + str(int(row[\"Revenue Saved ($)\"])), ha=\"center\")\n",
    "\n",
    "# Step 8: Titles\n",
    "plt.title(\"Yearly Revenue Saved by Retention\", fontsize=14)\n",
    "plt.xlabel(\"Retention Improvement (%)\", fontsize=12)\n",
    "plt.xticks(rotation=50)\n",
    "plt.ylabel(\"Revenue Saved ($)\", fontsize=12)\n",
    "\n",
    "plt.show()\n"
   ]
  },
  {
   "cell_type": "code",
   "execution_count": null,
   "id": "03792e08",
   "metadata": {},
   "outputs": [],
   "source": [
    "# Average monthly charges of high-risk customers\n",
    "avg_monthly = df1.loc[y_test.index, \"MonthlyCharges\"].mean()\n",
    "\n",
    "# Assume we save 5% of high-risk customers\n",
    "high_risk_count = (rf_probs >= 0.7).sum()\n",
    "retention_lift = 0.05  \n",
    "\n",
    "saved_revenue_monthly = avg_monthly * high_risk_count * retention_lift\n",
    "saved_revenue_yearly = saved_revenue_monthly * 12\n",
    "\n",
    "print(\"Estimated Monthly Revenue Saved:\", round(saved_revenue_monthly,2))\n",
    "print(\"Estimated Yearly Revenue Saved:\", round(saved_revenue_yearly,2))\n"
   ]
  },
  {
   "cell_type": "code",
   "execution_count": null,
   "id": "73c24e67",
   "metadata": {},
   "outputs": [],
   "source": [
    "\n",
    "\n",
    "# Step 1: Get probabilities from Random Forest\n",
    "rf_probs = rf_model.predict_proba(X_test_processed)[:,1]\n",
    "\n",
    "# Step 2: Average monthly charges of high-risk customers\n",
    "avg_monthly_rf = df1.loc[y_test.index, \"MonthlyCharges\"].mean()\n",
    "\n",
    "# Step 3: Count how many high-risk customers (p >= 0.7)\n",
    "high_risk_count_rf = (rf_probs >= 0.7).sum()\n",
    "\n",
    "# Step 4: Retention improvement scenarios (1% to 10%)\n",
    "retention_rates = [0.01,0.02,0.03,0.04,0.05,0.06,0.07,0.08,0.09,0.10]\n",
    "\n",
    "# Step 5: Calculate yearly savings\n",
    "yearly_savings_rf = []\n",
    "for r in retention_rates:\n",
    "    saved = avg_monthly_rf * high_risk_count_rf * r * 12\n",
    "    yearly_savings_rf.append(saved)\n",
    "\n",
    "# Step 6: Put results in DataFrame\n",
    "roi_rf = pd.DataFrame({\n",
    "    \"Retention (%)\": [r*100 for r in retention_rates],\n",
    "    \"Revenue Saved ($)\": yearly_savings_rf\n",
    "})\n",
    "\n",
    "# Step 7: Plot with seaborn\n",
    "plt.figure(figsize=(8,5))\n",
    "sns.barplot(x=\"Retention (%)\", y=\"Revenue Saved ($)\", data=roi_rf, color=\"lightgreen\", edgecolor=\"black\")\n",
    "\n",
    "# Step 8: Show values on bars\n",
    "for i, row in roi_rf.iterrows():\n",
    "    plt.text(row[\"Retention (%)\"], row[\"Revenue Saved ($)\"] + 500, \n",
    "             \"$\" + str(int(row[\"Revenue Saved ($)\"])), ha=\"center\")\n",
    "\n",
    "# Step 9: Titles\n",
    "plt.title(\"Yearly Revenue Saved by Retention (Random Forest)\", fontsize=14)\n",
    "plt.xlabel(\"Retention Improvement (%)\", fontsize=12)\n",
    "plt.xticks(rotation=50)\n",
    "plt.ylabel(\"Revenue Saved ($)\", fontsize=12)\n",
    "\n",
    "plt.show()\n"
   ]
  },
  {
   "cell_type": "markdown",
   "id": "7feabab3",
   "metadata": {},
   "source": [
    "# **13.Final Results & Conclusion**"
   ]
  },
  {
   "cell_type": "markdown",
   "id": "41611a7b",
   "metadata": {},
   "source": [
    "### Final Results\n",
    "- Dataset: 7043 customers, churn rate approx 26%\n",
    "- Best model: Logistic regression (ROC AUC 0.84)\n",
    "- High-risk customers identified: 25%\n",
    "- Top churn drivers: Month-to-Month contracts, Electronic Check payments, Fiber optic internet\n",
    "- ROI: Saving just 5% of high-value customers = 5441 yearly\n",
    "\n",
    "### Conclusion\n",
    "This project demonstrates how predictive modeling + business insights can reduce churn and improve revenue for subscription services.\n"
   ]
  },
  {
   "cell_type": "code",
   "execution_count": null,
   "id": "a7aa8d93",
   "metadata": {},
   "outputs": [],
   "source": []
  }
 ],
 "metadata": {
  "kernelspec": {
   "display_name": "Python 3",
   "language": "python",
   "name": "python3"
  },
  "language_info": {
   "codemirror_mode": {
    "name": "ipython",
    "version": 3
   },
   "file_extension": ".py",
   "mimetype": "text/x-python",
   "name": "python",
   "nbconvert_exporter": "python",
   "pygments_lexer": "ipython3",
   "version": "3.13.5"
  }
 },
 "nbformat": 4,
 "nbformat_minor": 5
}
